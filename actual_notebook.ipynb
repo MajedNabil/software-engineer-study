{
 "cells": [
  {
   "cell_type": "markdown",
   "metadata": {},
   "source": [
    "# What Contributes to a Higher Salary, as a Success Factor?"
   ]
  },
  {
   "cell_type": "markdown",
   "metadata": {},
   "source": [
    "## Introduction"
   ]
  },
  {
   "cell_type": "markdown",
   "metadata": {},
   "source": [
    "In this study, I analyze the annual survey conducted by StackOverflow. This Survey was conducted in 2019. This study considers the high salary as a success facotr (**yet of course it's not the only factor**). But since other factors such as competence in problem solving is hard to measure from a survey, I considered high salary as the success factor. "
   ]
  },
  {
   "cell_type": "code",
   "execution_count": null,
   "metadata": {},
   "outputs": [],
   "source": []
  },
  {
   "cell_type": "markdown",
   "metadata": {},
   "source": [
    "## I. Importing Necessary Libraries"
   ]
  },
  {
   "cell_type": "markdown",
   "metadata": {},
   "source": [
    "In this section, I import all the necessary libraries to do my analysis. \n",
    "It's worth noting that `auxiliary_module` contains auxiliary functions (as the name suggests :) ), in order to keep this notebook nice and clean. "
   ]
  },
  {
   "cell_type": "code",
   "execution_count": 2,
   "metadata": {},
   "outputs": [],
   "source": [
    "import pandas as pd \n",
    "from pandas import DataFrame\n",
    "from collections import defaultdict\n",
    "import matplotlib.pyplot as plt\n",
    "import auxiliary_module as aux"
   ]
  },
  {
   "cell_type": "markdown",
   "metadata": {},
   "source": [
    "## II. Data Preperation"
   ]
  },
  {
   "cell_type": "markdown",
   "metadata": {},
   "source": [
    "Before getting into the actual analysis, I need to perform some data preperation on the data set. First of all, I'm gonna drop some columns that are irrelevant to the study. for this, I'll use the function `drop_columns` defined in the `auxiliary_module` file. "
   ]
  },
  {
   "cell_type": "code",
   "execution_count": 3,
   "metadata": {},
   "outputs": [],
   "source": [
    "data_frame = pd.read_csv('survey_results_public.csv') # import the data set\n",
    "deleted_columns = ['Gender' , 'Age' , 'Trans' , 'Ethnicity' , 'SurveyLength' , 'SurveyEase', 'Sexuality'] # columns to be deleted\n",
    "prepared_data_frame = aux.drop_columns(data_frame, deleted_columns) # data frame after been prepared "
   ]
  },
  {
   "cell_type": "markdown",
   "metadata": {},
   "source": [
    "After deleting unnecessary columns, it's time to drop some NaNs! Since I'll be analyzing with respect to `ConvetedComp` (i.e., which is the column that has the annual salary conveted to USD), I'll remove all records that doesn't have that value. This can be accomplished as follows: "
   ]
  },
  {
   "cell_type": "code",
   "execution_count": 4,
   "metadata": {},
   "outputs": [
    {
     "name": "stdout",
     "output_type": "stream",
     "text": [
      "0.3719496416637602\n",
      "After\n"
     ]
    },
    {
     "data": {
      "text/plain": [
       "0.0"
      ]
     },
     "execution_count": 4,
     "metadata": {},
     "output_type": "execute_result"
    }
   ],
   "source": [
    "print(str(prepared_data_frame.ConvertedComp.isnull().mean()))\n",
    "prepared_data_frame = prepared_data_frame[prepared_data_frame['ConvertedComp'].notna()]\n",
    "print(\"After\")\n",
    "prepared_data_frame.ConvertedComp.isnull().mean()"
   ]
  },
  {
   "cell_type": "markdown",
   "metadata": {},
   "source": [
    "For any data cleaning needed for a particular question, it'll be done on that particular cell. "
   ]
  },
  {
   "cell_type": "markdown",
   "metadata": {},
   "source": [
    "## III. The Questions "
   ]
  },
  {
   "cell_type": "markdown",
   "metadata": {},
   "source": [
    "After cleaning the data, it's time to do some analysis! \n",
    "The questions tackled in this study is: - \n",
    "1. What are the programming languages the developers community at StackOverflow used during 2019? \n",
    "2. Does considering programming as a hobby result in a higher salary?\n",
    "3. Does the Level of Education result in a Higher Salary?\n",
    "4. Does having more experience years Result in a Higher Salary?\n",
    "5. Does Beginning in Programming Help in Getting Higher Salary ? "
   ]
  },
  {
   "cell_type": "markdown",
   "metadata": {},
   "source": [
    "### III.I What are the Programming Languages the Developers Community at StackOverflow Used During 2019 ?"
   ]
  },
  {
   "cell_type": "markdown",
   "metadata": {},
   "source": [
    "To answer this question, First I need to extract all the programming languages from used in the survey. I'll store them in a list called `programming_languages` . "
   ]
  },
  {
   "cell_type": "code",
   "execution_count": 5,
   "metadata": {},
   "outputs": [],
   "source": [
    "programming_languages = [\"Assembly\", \"Bash/Shell/PowerShell\", \n",
    "                 \"C\", \"C++\", \"C#\",\n",
    "                 \"Clojure\", \"Dart\", \"Elixir\",\n",
    "                 \"Erlang\", \"F#\",\n",
    "                 \"Go\", \"HTML/CSS\", \"Java\" , \"JavaScript\",\"Kotlin\",\"Objective-C\",\"PHP\",\n",
    "                 \"Python\",\"R\" , \"Ruby\",\"Rust\",\"Scala\",\"SQL\",\"Swift\", \"TypeScript\" , \"VBA\",\"WebAssembly\",\"Other(s)\"]"
   ]
  },
  {
   "cell_type": "markdown",
   "metadata": {},
   "source": [
    "After this, I'll plot a bar chart representing the percentages of these all languages. "
   ]
  },
  {
   "cell_type": "code",
   "execution_count": 6,
   "metadata": {},
   "outputs": [
    {
     "data": {
      "image/png": "[encoded data removed]",
      "text/plain": [
       "<Figure size 432x288 with 1 Axes>"
      ]
     },
     "metadata": {
      "needs_background": "light"
     },
     "output_type": "display_data"
    }
   ],
   "source": [
    "programming_languages_percentages = aux.clean_and_plot(programming_languages, prepared_data_frame,)"
   ]
  },
  {
   "cell_type": "markdown",
   "metadata": {},
   "source": [
    "From the bar chart above, we can observe that C has the highest adoption rate form the developers by an approximation of 13.6%. Comming next is Java, which has an adoption rate of almost 13.5% . "
   ]
  },
  {
   "cell_type": "markdown",
   "metadata": {},
   "source": [
    "### III.II Does Considering Programming as a Hobby Result in a Higher Salary? "
   ]
  },
  {
   "cell_type": "markdown",
   "metadata": {},
   "source": [
    "In order to answer this question, I need first to figure out the percentages of wehteher developers consider programming as a hobby or not. This piece of information can be found by examining the `Hobbyist` column. "
   ]
  },
  {
   "cell_type": "code",
   "execution_count": 7,
   "metadata": {},
   "outputs": [
    {
     "data": {
      "image/png": "[encoded data removed]",
      "text/plain": [
       "<Figure size 432x288 with 1 Axes>"
      ]
     },
     "metadata": {},
     "output_type": "display_data"
    }
   ],
   "source": [
    "array = prepared_data_frame.Hobbyist.value_counts() # to examine the percentage of both choices \n",
    "plt.axis('equal')\n",
    "plt.pie(array,labels=['Yes', 'No'], radius=1, autopct='%.0f%%', explode=[.1,0])\n",
    "plt.show()"
   ]
  },
  {
   "cell_type": "markdown",
   "metadata": {},
   "source": [
    "From the execution of the above code snippet, we found that **44238** do consider programming as a hobby. On the other hand, **11585** don't consider it as a hobby :( . "
   ]
  },
  {
   "cell_type": "markdown",
   "metadata": {},
   "source": [
    "Now, it's time to figure out the average salary of both categories. Using the below code snippet: "
   ]
  },
  {
   "cell_type": "code",
   "execution_count": 8,
   "metadata": {},
   "outputs": [
    {
     "data": {
      "image/png": "[encoded data removed]",
      "text/plain": [
       "<Figure size 432x288 with 1 Axes>"
      ]
     },
     "metadata": {
      "needs_background": "light"
     },
     "output_type": "display_data"
    }
   ],
   "source": [
    "array = prepared_data_frame.groupby(['Hobbyist']).mean()['ConvertedComp']\n",
    "plt.bar(['Yes', 'No'], array)\n",
    "plt.show()"
   ]
  },
  {
   "cell_type": "markdown",
   "metadata": {},
   "source": [
    "From the data above, we can observe that considering programming as a hobby may not have a big effect on the salary (as a form of success). "
   ]
  },
  {
   "cell_type": "markdown",
   "metadata": {},
   "source": [
    "### III.III Does the Level of Education Result in a Higher Salary?"
   ]
  },
  {
   "cell_type": "markdown",
   "metadata": {},
   "source": [
    "Let's obeserve the educational degress of all the subjects. The code snippet below will do so. This can be accomplished by observing the `EdLevel` column. "
   ]
  },
  {
   "cell_type": "code",
   "execution_count": 9,
   "metadata": {},
   "outputs": [
    {
     "data": {
      "image/png": "[encoded data removed]",
      "text/plain": [
       "<Figure size 432x288 with 1 Axes>"
      ]
     },
     "metadata": {},
     "output_type": "display_data"
    }
   ],
   "source": [
    "array = prepared_data_frame.EdLevel.value_counts() # to examine the percentage of both choices\n",
    "plt.axis('equal')\n",
    "\n",
    "plt.pie(array,labels=['Bachelor’s degree', 'Master’s degree','Some college/university study without earning a degree',\n",
    "                      'Secondary school','Associate degree','Other doctoral degree','Professional degree','elementary school','I never completed any formal education',], radius=3.1, autopct='%.0f%%')\n",
    "plt.show()"
   ]
  },
  {
   "cell_type": "markdown",
   "metadata": {},
   "source": [
    "From the chart above, we observe that more than half of the subjects have at least a Bachelor degree. On the other hand, almost 25% possess a Master's degree. Now, let's examine how this may affect the salary. "
   ]
  },
  {
   "cell_type": "code",
   "execution_count": 10,
   "metadata": {},
   "outputs": [
    {
     "data": {
      "text/plain": [
       "EdLevel\n",
       "Other doctoral degree (Ph.D, Ed.D., etc.)                                             171504.379046\n",
       "I never completed any formal education                                                154087.313636\n",
       "Associate degree                                                                      146191.275269\n",
       "Bachelor’s degree (BA, BS, B.Eng., etc.)                                              134966.131508\n",
       "Master’s degree (MA, MS, M.Eng., MBA, etc.)                                           120712.385650\n",
       "Some college/university study without earning a degree                                117587.731065\n",
       "Primary/elementary school                                                              95072.546154\n",
       "Professional degree (JD, MD, etc.)                                                     86490.193289\n",
       "Secondary school (e.g. American high school, German Realschule or Gymnasium, etc.)     85330.023734\n",
       "Name: ConvertedComp, dtype: float64"
      ]
     },
     "execution_count": 10,
     "metadata": {},
     "output_type": "execute_result"
    }
   ],
   "source": [
    "educational_level_data_frame = prepared_data_frame.groupby(['EdLevel']).mean()['ConvertedComp'] # store the result on a data frame\n",
    "educational_level_data_frame.sort_values(ascending=False) # To display in a descending order "
   ]
  },
  {
   "cell_type": "markdown",
   "metadata": {},
   "source": [
    "It seems that when a developer has a form of doctoral degree, s/he may have a higher chance in getting a higher salary. More importantly, we can observe that not possising any form of educational degree cannot prevent the person from succeeding in the software development territory. "
   ]
  },
  {
   "cell_type": "markdown",
   "metadata": {},
   "source": [
    "### III.IV Does having more experience years Result in a Higher Salary?"
   ]
  },
  {
   "cell_type": "markdown",
   "metadata": {},
   "source": [
    "It's time to observe the experience years. We can do so by observing `YearsCode`. "
   ]
  },
  {
   "cell_type": "code",
   "execution_count": 11,
   "metadata": {
    "scrolled": true
   },
   "outputs": [
    {
     "data": {
      "text/plain": [
       "10                    4896\n",
       "5                     3930\n",
       "6                     3847\n",
       "8                     3700\n",
       "7                     3495\n",
       "15                    3016\n",
       "4                     2723\n",
       "20                    2714\n",
       "12                    2666\n",
       "9                     2403\n",
       "3                     2129\n",
       "11                    1723\n",
       "14                    1636\n",
       "13                    1574\n",
       "18                    1466\n",
       "2                     1315\n",
       "16                    1246\n",
       "25                    1183\n",
       "17                    1086\n",
       "30                    1040\n",
       "22                     811\n",
       "19                     788\n",
       "35                     593\n",
       "23                     567\n",
       "21                     556\n",
       "24                     496\n",
       "1                      429\n",
       "28                     335\n",
       "40                     315\n",
       "26                     310\n",
       "27                     308\n",
       "32                     294\n",
       "33                     243\n",
       "37                     241\n",
       "38                     230\n",
       "34                     221\n",
       "36                     212\n",
       "Less than 1 year       192\n",
       "29                     170\n",
       "31                     148\n",
       "39                     117\n",
       "42                      75\n",
       "41                      58\n",
       "45                      56\n",
       "43                      52\n",
       "44                      36\n",
       "More than 50 years      24\n",
       "48                      17\n",
       "47                      16\n",
       "50                      16\n",
       "49                      12\n",
       "46                      11\n",
       "Name: YearsCode, dtype: int64"
      ]
     },
     "execution_count": 11,
     "metadata": {},
     "output_type": "execute_result"
    }
   ],
   "source": [
    "prepared_data_frame.YearsCode.value_counts().sort_values(ascending=False) # to examine the percentage of both choices "
   ]
  },
  {
   "cell_type": "markdown",
   "metadata": {},
   "source": [
    "From the above chart, we can see that the majority of the developers have been coding for 5 years."
   ]
  },
  {
   "cell_type": "markdown",
   "metadata": {},
   "source": [
    "It's time to observe the relationship between the experience years and the salary. "
   ]
  },
  {
   "cell_type": "code",
   "execution_count": 12,
   "metadata": {},
   "outputs": [
    {
     "data": {
      "text/plain": [
       "YearsCode\n",
       "43                    257491.673077\n",
       "50                    238791.375000\n",
       "49                    232410.083333\n",
       "39                    226974.179487\n",
       "More than 50 years    214187.625000\n",
       "40                    207225.241270\n",
       "28                    196185.626866\n",
       "42                    195765.560000\n",
       "38                    193303.452174\n",
       "25                    189045.918005\n",
       "46                    187708.727273\n",
       "35                    187465.947723\n",
       "45                    185179.178571\n",
       "22                    183349.665845\n",
       "31                    182876.675676\n",
       "37                    181885.887967\n",
       "34                    181072.063348\n",
       "24                    179831.370968\n",
       "26                    178840.703226\n",
       "30                    177877.315385\n",
       "23                    175622.693122\n",
       "19                    171080.491117\n",
       "33                    170233.320988\n",
       "36                    167027.325472\n",
       "20                    166656.826824\n",
       "32                    160739.180272\n",
       "47                    160123.062500\n",
       "27                    160104.402597\n",
       "41                    159458.327586\n",
       "21                    157439.224820\n",
       "17                    154208.909761\n",
       "18                    148457.449523\n",
       "16                    145357.642857\n",
       "15                    140741.923740\n",
       "29                    136073.594118\n",
       "44                    135694.027778\n",
       "14                    131264.069071\n",
       "13                    126944.614358\n",
       "48                    123846.176471\n",
       "12                    122487.049887\n",
       "9                     118406.600083\n",
       "11                    116627.448636\n",
       "10                    116366.401757\n",
       "8                     110596.643514\n",
       "Less than 1 year      109092.052083\n",
       "6                     103259.492072\n",
       "7                     103183.474106\n",
       "5                      92577.631043\n",
       "4                      91930.776717\n",
       "2                      87808.648669\n",
       "3                      81301.488023\n",
       "1                      76765.221445\n",
       "Name: ConvertedComp, dtype: float64"
      ]
     },
     "execution_count": 12,
     "metadata": {},
     "output_type": "execute_result"
    }
   ],
   "source": [
    "experience_years_data_frame = prepared_data_frame.groupby(['YearsCode']).mean()['ConvertedComp'] # store the result on a data frame\n",
    "experience_years_data_frame.sort_values(ascending=False) # To display in a descending order "
   ]
  },
  {
   "cell_type": "markdown",
   "metadata": {},
   "source": [
    "As expected, the more experience years you have, the more salary you'll probably gain. "
   ]
  },
  {
   "cell_type": "markdown",
   "metadata": {},
   "source": [
    "### III.V Does Beginning Early in Programming Help in Getting Higher Salary ? "
   ]
  },
  {
   "cell_type": "markdown",
   "metadata": {},
   "source": [
    "Finally, let's see if the person starts programming from the very beginning of his/her life may result in getting a higher salary. This information can be figured out by looking into the `Age1stCode` column."
   ]
  },
  {
   "cell_type": "code",
   "execution_count": 13,
   "metadata": {},
   "outputs": [
    {
     "data": {
      "text/plain": [
       "15                      5690\n",
       "14                      5689\n",
       "16                      5650\n",
       "12                      5157\n",
       "18                      4830\n",
       "13                      4182\n",
       "17                      3709\n",
       "10                      3301\n",
       "19                      2818\n",
       "20                      2235\n",
       "11                      2155\n",
       "8                       1682\n",
       "9                       1186\n",
       "21                      1178\n",
       "22                      1008\n",
       "7                        869\n",
       "23                       682\n",
       "25                       554\n",
       "24                       536\n",
       "6                        532\n",
       "26                       309\n",
       "5                        280\n",
       "27                       260\n",
       "30                       212\n",
       "Younger than 5 years     211\n",
       "28                       210\n",
       "29                       128\n",
       "31                        78\n",
       "32                        65\n",
       "33                        57\n",
       "35                        55\n",
       "34                        52\n",
       "40                        23\n",
       "37                        17\n",
       "36                        13\n",
       "38                        13\n",
       "39                         7\n",
       "45                         7\n",
       "42                         6\n",
       "Older than 85              5\n",
       "43                         5\n",
       "44                         5\n",
       "41                         5\n",
       "50                         4\n",
       "51                         2\n",
       "49                         1\n",
       "60                         1\n",
       "55                         1\n",
       "54                         1\n",
       "46                         1\n",
       "83                         1\n",
       "Name: Age1stCode, dtype: int64"
      ]
     },
     "execution_count": 13,
     "metadata": {},
     "output_type": "execute_result"
    }
   ],
   "source": [
    "prepared_data_frame.Age1stCode.value_counts().sort_values(ascending=False) # to examine the percentage of both choices "
   ]
  },
  {
   "cell_type": "markdown",
   "metadata": {},
   "source": [
    "The majority of the devleopers in this survey have started in age from the range 12-18. Let's see how this may affect the salary. "
   ]
  },
  {
   "cell_type": "code",
   "execution_count": 14,
   "metadata": {},
   "outputs": [
    {
     "data": {
      "text/plain": [
       "Age1stCode\n",
       "49                      2.000000e+06\n",
       "43                      4.444316e+05\n",
       "Older than 85           4.057188e+05\n",
       "36                      2.106065e+05\n",
       "54                      2.000000e+05\n",
       "39                      1.977140e+05\n",
       "32                      1.842005e+05\n",
       "40                      1.811548e+05\n",
       "55                      1.800000e+05\n",
       "8                       1.682694e+05\n",
       "10                      1.628087e+05\n",
       "6                       1.623666e+05\n",
       "34                      1.602204e+05\n",
       "5                       1.580219e+05\n",
       "7                       1.507480e+05\n",
       "25                      1.504446e+05\n",
       "9                       1.480995e+05\n",
       "28                      1.450541e+05\n",
       "12                      1.427600e+05\n",
       "31                      1.419279e+05\n",
       "33                      1.418314e+05\n",
       "26                      1.409649e+05\n",
       "Younger than 5 years    1.387527e+05\n",
       "11                      1.370125e+05\n",
       "13                      1.369332e+05\n",
       "30                      1.302771e+05\n",
       "35                      1.243337e+05\n",
       "14                      1.228403e+05\n",
       "16                      1.195387e+05\n",
       "51                      1.194735e+05\n",
       "22                      1.191239e+05\n",
       "24                      1.187044e+05\n",
       "15                      1.176021e+05\n",
       "41                      1.174400e+05\n",
       "20                      1.154638e+05\n",
       "21                      1.139167e+05\n",
       "23                      1.137145e+05\n",
       "27                      1.117799e+05\n",
       "18                      1.069313e+05\n",
       "29                      1.039776e+05\n",
       "19                      1.029600e+05\n",
       "17                      1.026740e+05\n",
       "45                      7.747486e+04\n",
       "38                      6.994131e+04\n",
       "37                      6.164112e+04\n",
       "42                      6.039533e+04\n",
       "44                      5.813080e+04\n",
       "50                      5.265000e+04\n",
       "60                      3.358800e+04\n",
       "46                      5.000000e+03\n",
       "83                      0.000000e+00\n",
       "Name: ConvertedComp, dtype: float64"
      ]
     },
     "execution_count": 14,
     "metadata": {},
     "output_type": "execute_result"
    }
   ],
   "source": [
    "year_started_coding_data_frame = prepared_data_frame.groupby(['Age1stCode']).mean()['ConvertedComp'] # store the result on a data frame\n",
    "year_started_coding_data_frame.sort_values(ascending=False) # To display in a descending order "
   ]
  },
  {
   "cell_type": "markdown",
   "metadata": {},
   "source": [
    "Interstengly enough, the data doesn't show any correlation between the age of starting coding and the salary. "
   ]
  },
  {
   "cell_type": "code",
   "execution_count": null,
   "metadata": {},
   "outputs": [],
   "source": []
  }
 ],
 "metadata": {
  "kernelspec": {
   "display_name": "Python 3",
   "language": "python",
   "name": "python3"
  },
  "language_info": {
   "codemirror_mode": {
    "name": "ipython",
    "version": 3
   },
   "file_extension": ".py",
   "mimetype": "text/x-python",
   "name": "python",
   "nbconvert_exporter": "python",
   "pygments_lexer": "ipython3",
   "version": "3.7.6"
  }
 },
 "nbformat": 4,
 "nbformat_minor": 4
}
